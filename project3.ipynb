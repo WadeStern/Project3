{
 "cells": [
  {
   "cell_type": "code",
   "execution_count": 4,
   "id": "5ec1a6de",
   "metadata": {},
   "outputs": [],
   "source": [
    "#Import necessary tools\n",
    "import numpy as np\n",
    "import pandas as pd\n",
    "from sklearn.linear_model import LinearRegression as LR\n",
    "from sklearn.linear_model import LogisticRegression as LogR\n",
    "import matplotlib.pyplot as plt \n",
    "import seaborn as sns"
   ]
  },
  {
   "cell_type": "code",
   "execution_count": 5,
   "id": "87603f5d",
   "metadata": {},
   "outputs": [],
   "source": [
    "train = pd.read_csv('train.csv')\n",
    "test = pd.read_csv('test.csv')"
   ]
  },
  {
   "cell_type": "code",
   "execution_count": 6,
   "id": "1f48b7f2",
   "metadata": {},
   "outputs": [],
   "source": [
    "null_to_drop = train.isna().sum()[train.isna().sum() > 100]\n",
    "train.drop(columns = null_to_drop.index, axis=1, inplace=True)\n",
    "null_to_drop = test.isna().sum()[test.isna().sum() > 100]\n",
    "test.drop(columns = null_to_drop.index, axis=1, inplace=True)"
   ]
  },
  {
   "cell_type": "code",
   "execution_count": 7,
   "id": "df1738b8",
   "metadata": {},
   "outputs": [
    {
     "data": {
      "text/plain": [
       "Series([], dtype: int64)"
      ]
     },
     "execution_count": 7,
     "metadata": {},
     "output_type": "execute_result"
    }
   ],
   "source": [
    "train = train.dropna(axis=0)\n",
    "null = train.isna().sum()[train.isna().sum() > 0]\n",
    "null\n",
    "test = test.dropna(axis=0)\n",
    "null = test.isna().sum()[test.isna().sum() > 0]\n",
    "null"
   ]
  },
  {
   "cell_type": "code",
   "execution_count": 8,
   "id": "2c2eea42",
   "metadata": {},
   "outputs": [],
   "source": [
    "price = train[\"SalePrice\"]\n",
    "train_x = train[[\"LotArea\",\"OverallQual\",\"OverallCond\",\"YearBuilt\"]]"
   ]
  },
  {
   "cell_type": "code",
   "execution_count": 9,
   "id": "c72a81e3",
   "metadata": {},
   "outputs": [],
   "source": [
    "x = np.array(train_x)\n",
    "y = np.array(price)\n",
    "\n",
    "x = np.nan_to_num(x, nan=0)\n",
    "y = np.nan_to_num(y, nan=0)"
   ]
  },
  {
   "cell_type": "code",
   "execution_count": 10,
   "id": "321dbf72",
   "metadata": {},
   "outputs": [],
   "source": [
    "linReg = LR().fit(x,y)"
   ]
  },
  {
   "cell_type": "code",
   "execution_count": 12,
   "id": "dd50b837",
   "metadata": {},
   "outputs": [
    {
     "name": "stdout",
     "output_type": "stream",
     "text": [
      "R^2: 0.6577644151040845\n",
      "Intercept:-795770.2872428141\n",
      "Coef[1.46448928e+00 4.18257152e+04 4.36583688e+03 3.45800820e+02]\n"
     ]
    }
   ],
   "source": [
    "#Experiment 1 \n",
    "#Creating a linear regression model for the data\n",
    "r_sq = linReg.score(x,y)\n",
    "print(\"R^2: \" + str(r_sq))\n",
    "print(\"Intercept:\" + str(linReg.intercept_))\n",
    "print(\"Coef\" + str(linReg.coef_))"
   ]
  },
  {
   "cell_type": "code",
   "execution_count": 13,
   "id": "f95841e3",
   "metadata": {},
   "outputs": [],
   "source": [
    "linReg_pred = linReg.predict(x)"
   ]
  },
  {
   "cell_type": "code",
   "execution_count": 14,
   "id": "e5c297b3",
   "metadata": {},
   "outputs": [
    {
     "name": "stdout",
     "output_type": "stream",
     "text": [
      "46148.0599702884\n"
     ]
    }
   ],
   "source": [
    "#Finding the RMSE\n",
    "import math\n",
    "error = np.square(np.subtract(train[\"SalePrice\"],linReg_pred)).mean()\n",
    "root_error = math.sqrt(error)\n",
    "print(root_error)"
   ]
  }
 ],
 "metadata": {
  "kernelspec": {
   "display_name": "Python 3 (ipykernel)",
   "language": "python",
   "name": "python3"
  },
  "language_info": {
   "codemirror_mode": {
    "name": "ipython",
    "version": 3
   },
   "file_extension": ".py",
   "mimetype": "text/x-python",
   "name": "python",
   "nbconvert_exporter": "python",
   "pygments_lexer": "ipython3",
   "version": "3.9.12"
  }
 },
 "nbformat": 4,
 "nbformat_minor": 5
}
